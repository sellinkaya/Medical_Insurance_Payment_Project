{
  "cells": [
    {
      "cell_type": "markdown",
      "metadata": {
        "id": "9BoksF-X4rfl"
      },
      "source": [
        "# Giriş"
      ]
    },
    {
      "cell_type": "markdown",
      "metadata": {
        "id": "7Rth7rxiup-4"
      },
      "source": [
        " Kütüphane Yükleme ve Veri İnceleme\n",
        "Kütüphaneler: numpy (sayısal işlemler), pandas (veri manipülasyonu), matplotlib.pyplot ve seaborn (veri görselleştirme), sklearn (makine öğrenimi algoritmaları ve yardımcı araçlar) gibi temel kütüphaneler içe aktarılır.\n",
        "\n",
        "Veri Yükleme: insurance.csv adlı CSV dosyası pd.read_csv('insurance.csv', sep=';') komutuyla yüklenir. sep=';' ifadesi, dosyanın noktalı virgülle ayrılmış olduğunu belirtir.\n",
        "\n",
        "İlk İnceleme:\n",
        "\n",
        "df.info(): Veri çerçevesinin genel bilgilerini (sütun adları, veri tipleri, eksik olmayan değer sayısı) gösterir.\n",
        "\n",
        "df.isnull().sum(): Her sütundaki eksik değer sayısını kontrol eder.\n",
        "\n",
        "df.head(): Veri çerçevesinin ilk 5 satırını görüntüler.\n",
        "\n",
        "df.describe(): Sayısal sütunların istatistiksel özetini (ortalama, standart sapma, min, max vb.) sunar."
      ]
    },
    {
      "cell_type": "code",
      "execution_count": null,
      "metadata": {
        "id": "5B7wiWjiF4I8"
      },
      "outputs": [],
      "source": [
        "from google.colab import files\n",
        "uploaded = files.upload()\n",
        "\n",
        "# Gerekli kütüphanelerin yüklenmesi\n",
        "import pandas as pd\n",
        "import numpy as np\n",
        "import matplotlib.pyplot as plt\n",
        "import seaborn as sns\n",
        "\n",
        "from sklearn.decomposition import PCA\n",
        "from sklearn.model_selection import train_test_split\n",
        "from sklearn.linear_model import LinearRegression, Ridge\n",
        "from sklearn.ensemble import RandomForestRegressor\n",
        "from sklearn.pipeline import Pipeline\n",
        "from sklearn.preprocessing import StandardScaler\n",
        "from sklearn.metrics import mean_squared_error, r2_score\n",
        "\n"
      ]
    },
    {
      "cell_type": "markdown",
      "metadata": {
        "id": "2ovjoorDwuMe"
      },
      "source": [
        "İnceleyeceğiniz Python kodu, bir sigorta veri kümesi üzerinde keşifsel veri analizi (EDA) yapmak, verileri ön işlemek ve makine öğrenimi modelleri için hazırlamak amacıyla yazılmıştır.\n",
        "\n",
        "Veri Seti Hakkında\n",
        "ACME Insurance Inc., Amerika Birleşik Devletleri'nin her yerindeki binlerce müşteriye uygun fiyatlı sağlık sigortası sunmaktadır. Yaş, cinsiyet, BMI, çocuklar, sigara alışkanlıkları ve ikamet ettikleri bölge gibi bilgileri kullanarak yeni müşteriler için yıllık tıbbi harcamaları tahmin eden otomatik bir sistem oluşturmak hedeflenmiştir.\n"
      ]
    },
    {
      "cell_type": "code",
      "execution_count": null,
      "metadata": {
        "id": "gn32G2lbwpLa"
      },
      "outputs": [],
      "source": [
        "import warnings\n",
        "warnings.filterwarnings('ignore')"
      ]
    },
    {
      "cell_type": "markdown",
      "metadata": {
        "id": "uXlmj_z-w1Ry"
      },
      "source": [
        "import warnings ve warnings.filterwarnings('ignore') satırları, Python kodunuz çalışırken ortaya çıkabilecek uyarı mesajlarını (warnings) gizlemek amacıyla kullanılır."
      ]
    },
    {
      "cell_type": "markdown",
      "metadata": {
        "id": "ERHNJpQjHZcc"
      },
      "source": []
    },
    {
      "cell_type": "code",
      "execution_count": null,
      "metadata": {
        "id": "W7t6KRYZHFZY"
      },
      "outputs": [],
      "source": [
        "# Veri Yükleme\n",
        "df = pd.read_csv('insurance.csv', sep=';')\n",
        "df.info()\n",
        "\n",
        "#Eksik veri kontrolü yapıldı\n",
        "df.isnull().any().any()\n",
        "df.head(10)\n",
        "df.describe()\n"
      ]
    },
    {
      "cell_type": "markdown",
      "metadata": {
        "id": "sxQQg5Mxufwd"
      },
      "source": []
    },
    {
      "cell_type": "markdown",
      "metadata": {
        "id": "wkUiFmCRuxxm"
      },
      "source": [
        "Veri Temizleme ve Ön İşleme\n",
        "'charges' Sütunu Dönüşümü: df['charges'] = df['charges'].str.replace('.', '', regex=False).astype(float) satırı, 'charges' (sigorta masrafları) sütunundaki ondalık ayırıcı olarak kullanılan noktaları kaldırır ve sütunu float (ondalıklı sayı) veri tipine dönüştürür. Bu, büyük sayılarda binlik ayıracı olarak nokta kullanıldığı durumlarda veri tipini doğru ayarlamak için önemlidir.\n",
        "\n",
        "One-Hot Encoding: df_encoded = pd.get_dummies(df, columns=['sex', 'smoker', 'region'], drop_first=True) ile kategorik sütunlar ('sex', 'smoker', 'region') one-hot encoding'e tabi tutulur. drop_first=True parametresi, çoklu doğrusal bağıntıyı (multicollinearity) önlemek için her kategorik sütun için bir dummy değişkenini düşürür.\n",
        "\n",
        "Özellikler ve Hedef Değişken: X (bağımsız değişkenler) ve y (bağımlı değişken - 'charges') ayrılır."
      ]
    },
    {
      "cell_type": "code",
      "execution_count": null,
      "metadata": {
        "id": "Y3rr1tLbxg9j"
      },
      "outputs": [],
      "source": [
        "\n",
        "# 'charges' sütununu sayısala çevirme\n",
        "# (Nokta yerine boşluk koyup virgül gibi davranmasını engelleme)\n",
        "df['charges'] = df['charges'].str.replace('.', '', regex=False).astype(float)\n",
        "\n",
        "# One-hot encoding uygulama\n",
        "df_encoded = pd.get_dummies(df, columns=['sex', 'smoker', 'region'], drop_first=True)\n",
        "\n",
        "# Özellikler ve hedef değişken\n",
        "X = df_encoded.drop('charges', axis=1)\n",
        "y = df_encoded['charges']\n",
        "\n",
        "# Sadece sayısal sütunları seç\n",
        "numeric_columns = df.select_dtypes(include=['int64', 'float64']).columns\n"
      ]
    },
    {
      "cell_type": "markdown",
      "metadata": {
        "id": "NIgsYcznu1dt"
      },
      "source": [
        "Aykırı Değer Filtreleme\n",
        "charges sütunu için %1 ve %99'luk çeyreklikleri (quantile) kullanarak aykırı değerler filtrelenir. Bu, aşırı düşük veya aşırı yüksek değerlerin analizden çıkarılmasını sağlar ve df_filtered adlı yeni bir veri çerçevesi oluşturulur."
      ]
    },
    {
      "cell_type": "code",
      "execution_count": null,
      "metadata": {
        "id": "Cg6noBVFxySu"
      },
      "outputs": [],
      "source": [
        "# Aykırı Değer Filtreleme\n",
        "q01 = df['charges'].quantile(0.01)\n",
        "q99 = df['charges'].quantile(0.99)\n",
        "df_filtered = df[(df['charges'] > q01) & (df['charges'] < q99)]\n"
      ]
    },
    {
      "cell_type": "markdown",
      "metadata": {
        "id": "mrBAD2Cru-f3"
      },
      "source": [
        "Keşifsel Veri Analizi (EDA) - Görselleştirmeler\n",
        "Boxplotlar: Sayısal sütunlardaki (age, bmi, children, charges) aykırı değerleri ve dağılımı görselleştirmek için kutu grafikleri (boxplots) çizilir.\n",
        "\n",
        "Dağılım Grafiği (Histogram ve KDE): charges sütununun dağılımını gösteren bir histogram ve yoğunluk tahmini (KDE - Kernel Density Estimate) çizilir. Başlıkta \"Quality Distribution Plot\" yazsa da, bu aslında 'charges' dağılımını göstermektedir.\n",
        "\n",
        "Pair Plot: Veri çerçevesindeki tüm sayısal sütunlar arasındaki ikili ilişkileri (dağılımlar ve saçılım grafikleri) gösteren bir pair plot oluşturulur.\n",
        "\n",
        "Saçılım Grafikleri:\n",
        "\n",
        "age vs. charges\n",
        "\n",
        "bmi vs. charges\n",
        "\n",
        "children vs. charges\n",
        "Bu grafikler, 'smoker' (sigara içen) durumuna göre renklendirilerek, sigara içmenin masraflar üzerindeki etkisini incelemeye yardımcı olur.\n",
        "\n",
        "Korelasyon Isı Haritası: Sayısal sütunlar arasındaki korelasyonu gösteren bir ısı haritası çizilir. Bu, değişkenler arasındaki doğrusal ilişkilerin gücünü ve yönünü anlamak için faydalıdır."
      ]
    },
    {
      "cell_type": "markdown",
      "source": [
        "# Veri Görselleştirme"
      ],
      "metadata": {
        "id": "W4yNuRpzi7NA"
      }
    },
    {
      "cell_type": "code",
      "execution_count": null,
      "metadata": {
        "id": "RhcmH8VsyK7L"
      },
      "outputs": [],
      "source": [
        "# Boxplot çizimi\n",
        "plt.figure(figsize=(11, 5))\n",
        "for i, column in enumerate(numeric_columns):\n",
        "    plt.subplot(1, len(numeric_columns), i + 1)\n",
        "    sns.boxplot(y=df[column])\n",
        "    plt.title(column)\n",
        "plt.tight_layout()\n",
        "plt.show()"
      ]
    },
    {
      "cell_type": "code",
      "execution_count": null,
      "metadata": {
        "id": "43LEVIycyDJ7"
      },
      "outputs": [],
      "source": [
        "# Dağılım grafiği\n",
        "plt.figure(figsize=(10, 5))\n",
        "sns.histplot(df['charges'], kde=True, color='skyblue')\n",
        "plt.title('Quality Distribution Plot', fontsize=15)\n",
        "plt.show()\n"
      ]
    },
    {
      "cell_type": "code",
      "execution_count": null,
      "metadata": {
        "id": "7Ix9ifM5Gzjg"
      },
      "outputs": [],
      "source": [
        "# Değişkenler Arası İlişki Matrisi (Pair Plot)\n",
        "sns_plot = sns.pairplot(df)"
      ]
    },
    {
      "cell_type": "markdown",
      "metadata": {
        "id": "mk48b4W1FDvb"
      },
      "source": []
    },
    {
      "cell_type": "code",
      "execution_count": null,
      "metadata": {
        "id": "4UhJiHoKGrq_"
      },
      "outputs": [],
      "source": [
        "\n",
        "# Saçılım Grafikleri Oluşturma\n",
        "\n",
        "plt.figure(figsize=(15, 5))\n",
        "plt.subplot(1, 3, 1)\n",
        "sns.scatterplot(x='age', y='charges', hue='smoker', data=df, palette='viridis')\n",
        "plt.title('Charges vs. Age')\n",
        "\n",
        "plt.subplot(1, 3, 2)\n",
        "sns.scatterplot(x='bmi', y='charges', hue='smoker', data=df, palette='viridis')\n",
        "plt.title('Charges vs. BMI')\n",
        "\n",
        "plt.subplot(1, 3, 3)\n",
        "sns.scatterplot(x='children', y='charges', hue='smoker', data=df, palette='viridis')\n",
        "plt.title('Charges vs. Children')\n",
        "plt.tight_layout()\n",
        "plt.show()"
      ]
    },
    {
      "cell_type": "code",
      "execution_count": null,
      "metadata": {
        "id": "n7hcv50AGmYl"
      },
      "outputs": [],
      "source": [
        "import seaborn as sns\n",
        "import matplotlib.pyplot as plt\n",
        "\n",
        "# Pairplot\n",
        "plt.figure(figsize=(10, 8))\n",
        "sns.pairplot(df, hue='smoker', vars=['age', 'bmi', 'children', 'charges'])\n",
        "plt.show()\n",
        "\n",
        "# Heatmap için sadece sayısal sütunları al\n",
        "numeric_df = df.select_dtypes(include=['number'])\n",
        "\n",
        "plt.figure(figsize=(8, 6))\n",
        "sns.heatmap(numeric_df.corr(), annot=True, cmap='coolwarm', fmt=\".2f\")\n",
        "plt.title('Correlation Matrix Heatmap')\n",
        "plt.show()"
      ]
    },
    {
      "cell_type": "markdown",
      "metadata": {
        "id": "DsxfpvUSvCs4"
      },
      "source": [
        "Veri Bölme ve Dönüşüm\n",
        "encode_and_split Fonksiyonu: Bu fonksiyon, verilen veri çerçevesini tekrar one-hot encoding'e tabi tutar, hedef değişkeni ayırır ve veriyi eğitim (X_train, y_train_raw) ve test (X_test, y_test_raw) setlerine böler.\n",
        "\n"
      ]
    },
    {
      "cell_type": "code",
      "execution_count": null,
      "metadata": {
        "id": "H_zhuSDqGjKw"
      },
      "outputs": [],
      "source": [
        "# Kodlama ve Bölme\n",
        "def encode_and_split(df, target='charges', test_size=0.2):\n",
        "    df_encoded = pd.get_dummies(df, columns=['sex', 'smoker', 'region'], drop_first=True)\n",
        "    X = df_encoded.drop(target, axis=1)\n",
        "    y = df_encoded[target]\n",
        "    return train_test_split(X, y, test_size=test_size, random_state=42)\n",
        "\n",
        "X_train, X_test, y_train_raw, y_test_raw = encode_and_split(df_filtered)\n",
        "\n",
        "print(X_train.head())\n"
      ]
    },
    {
      "cell_type": "markdown",
      "metadata": {
        "id": "mikeptT1vRLo"
      },
      "source": [
        "\n",
        "\n",
        " Log Dönüşümü: log_transform fonksiyonu, hedef değişken olan y'ye np.log1p (log(1+x)) dönüşümü uygular. Bu, genellikle sağa çarpık dağılıma sahip verilerde (örneğin, masraflar gibi) model performansını artırmak ve varsayımları karşılamak için yapılır. np.expm1 ise ters dönüşüm için bir referans olarak döndürülür.\n",
        "\n",
        " Yani, bu kullandığımız veri setindeki charges gibi finansal veya sayım verilerinde yaygın olarak kullanılan güçlü bir ön işleme adımıdır. Verinin dağılımını iyileştirerek, aykırı değerlerin etkisini azaltarak ve model varsayımlarını karşılayarak makine öğrenimi modellerinin performansını ve genellenebilirliğini artırır."
      ]
    },
    {
      "cell_type": "code",
      "execution_count": null,
      "metadata": {
        "id": "E3LE9t1EGg28"
      },
      "outputs": [],
      "source": [
        "# Log Dönüşümü\n",
        "def log_transform(y):\n",
        "    return np.log1p(y), np.expm1\n",
        "\n",
        "y_train, inverse_transform = log_transform(y_train_raw)\n",
        "y_test, _ = log_transform(y_test_raw)\n"
      ]
    },
    {
      "cell_type": "code",
      "execution_count": null,
      "metadata": {
        "id": "yFk44adGyvWj"
      },
      "outputs": [],
      "source": [
        "from sklearn.preprocessing import StandardScaler\n",
        "\n",
        "scaler = StandardScaler()\n",
        "X_scaled = scaler.fit_transform(X)\n",
        "\n",
        "# PCA Görselleştirmesi\n",
        "pca = PCA(n_components=2)\n",
        "X_pca = pca.fit_transform(scaler.fit_transform(X))\n",
        "plt.scatter(X_pca[:, 0], X_pca[:, 1], c='blue', alpha=0.5)\n",
        "plt.title('PCA Görselleştirmesi')\n",
        "plt.show()"
      ]
    },
    {
      "cell_type": "markdown",
      "metadata": {
        "id": "zQm9lpwHvNSn"
      },
      "source": [
        "Örnek Model Sonuçları ve Karşılaştırma\n",
        "Placeholder Sonuçlar: Bu bölüm, farklı makine öğrenimi modelleri (Lineer Regresyon, Random Forest, Gradient Boosting) için örnek RMSE (Ortalama Kare Hata Kökü) ve R2 (Belirleme Katsayısı) değerlerini içeren bir liste tanımlar. Bu değerler gerçek model eğitiminden gelmemektedir, sadece örnek amaçlıdır.\n",
        "\n",
        "Sonuç Karşılaştırması: Tanımlanan örnek sonuçlar bir DataFrame'e dönüştürülür ve RMSE'ye göre sıralanır.\n"
      ]
    },
    {
      "cell_type": "code",
      "execution_count": null,
      "metadata": {
        "id": "Wj0raci-GSEC"
      },
      "outputs": [],
      "source": [
        "#Modellerin Tanımı ve Eğitimi\n",
        "\n",
        "models = {\n",
        "    'Doğrusal Regresyon': Pipeline([\n",
        "        ('ölçekleyici', StandardScaler()),\n",
        "        ('model', LinearRegression())\n",
        "    ]),\n",
        "    'Ridge Regresyonu': Pipeline([\n",
        "        ('ölçekleyici', StandardScaler()),\n",
        "        ('model', Ridge(alpha=1.0))\n",
        "    ]),\n",
        "    'Rastgele Orman': Pipeline([\n",
        "        ('model', RandomForestRegressor(n_estimators=100, random_state=42))\n",
        "    ])\n",
        "}\n",
        "\n",
        "results = []\n",
        "\n",
        "for name, pipeline in models.items():\n",
        "    pipeline.fit(X_train, y_train)\n",
        "    y_pred_log = pipeline.predict(X_test)\n",
        "    y_pred = inverse_transform(y_pred_log)\n",
        "    y_true = inverse_transform(y_test)\n",
        "    rmse = np.sqrt(mean_squared_error(y_true, y_pred))\n",
        "    r2 = r2_score(y_true, y_pred)\n",
        "    results.append({'Model': name, 'RMSE': rmse, 'R2': r2})\n"
      ]
    },
    {
      "cell_type": "markdown",
      "source": [
        "# Sonuç"
      ],
      "metadata": {
        "id": "admOwwWrjOVr"
      }
    },
    {
      "cell_type": "code",
      "execution_count": null,
      "metadata": {
        "id": "HuejqZCay3_E"
      },
      "outputs": [],
      "source": [
        "# Örnek Model Sonuçları (örnek amaçlı, gerçek modeller burada eğitilmeli)\n",
        "results = [\n",
        "    {'Model': 'Linear Regression', 'RMSE': 4500, 'R2': 0.82},\n",
        "    {'Model': 'Random Forest', 'RMSE': 3200, 'R2': 0.89},\n",
        "    {'Model': 'Gradient Boosting', 'RMSE': 3100, 'R2': 0.90}\n",
        "]\n"
      ]
    },
    {
      "cell_type": "code",
      "execution_count": null,
      "metadata": {
        "id": "psTfIv42GMQi"
      },
      "outputs": [],
      "source": [
        "\n",
        "# Sonuç Karşılaştırması\n",
        "results_df = pd.DataFrame(results)\n",
        "print(results_df.sort_values(by='RMSE'))\n"
      ]
    },
    {
      "cell_type": "code",
      "execution_count": null,
      "metadata": {
        "id": "I_Z3IBw0GIZl"
      },
      "outputs": [],
      "source": [
        "\n",
        "# Grafiklerle görselleştirme\n",
        "plt.figure(figsize=(8, 5))\n",
        "sns.barplot(data=results_df, x='Model', y='RMSE', palette='coolwarm')\n",
        "plt.title(\"Modellere Göre RMSE Karşılaştırması\")\n",
        "plt.ylabel(\"RMSE (Düşük = Daha İyi)\")\n",
        "plt.xticks(rotation=45)\n",
        "plt.tight_layout()\n",
        "plt.show()\n",
        "\n",
        "plt.figure(figsize=(8, 5))\n",
        "sns.barplot(data=results_df, x='Model', y='R2', palette='viridis')\n",
        "plt.title(\"Modellere Göre R2 Karşılaştırması\")\n",
        "plt.ylabel(\"R2 Skoru (Yüksek = Daha İyi)\")\n",
        "plt.xticks(rotation=45)\n",
        "plt.tight_layout()\n",
        "plt.show()"
      ]
    },
    {
      "cell_type": "markdown",
      "metadata": {
        "id": "-8HEsT2yvw2p"
      },
      "source": [
        "Görselleştirme: RMSE ve R2 skorlarını modellere göre karşılaştıran çubuk grafikler (bar plots) çizilir. Bu grafikler, hangi modelin (örnek verilere göre) daha iyi performans gösterdiğini görsel olarak sunar."
      ]
    },
    {
      "cell_type": "code",
      "execution_count": null,
      "metadata": {
        "id": "8ViYzl36Lz_C"
      },
      "outputs": [],
      "source": [
        "from google.colab import output\n",
        "output.clear()  # bu sadece anlık çıktıyı temizler"
      ]
    },
    {
      "cell_type": "code",
      "execution_count": null,
      "metadata": {
        "id": "ghBJC4DeL4Qe"
      },
      "outputs": [],
      "source": [
        "from google.colab import files\n",
        "files.download(\"insurance.csv\")"
      ]
    },
    {
      "cell_type": "code",
      "execution_count": null,
      "metadata": {
        "id": "AcIBczQ7xTbm"
      },
      "outputs": [],
      "source": []
    }
  ],
  "metadata": {
    "colab": {
      "provenance": []
    },
    "kernelspec": {
      "display_name": "Python 3",
      "name": "python3"
    },
    "language_info": {
      "name": "python"
    }
  },
  "nbformat": 4,
  "nbformat_minor": 0
}